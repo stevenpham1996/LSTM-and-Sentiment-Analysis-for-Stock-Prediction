{
 "cells": [
  {
   "attachments": {},
   "cell_type": "markdown",
   "metadata": {},
   "source": [
    "# Stock Market Prediction Using Numerical Analysis and Textual Analysis\n",
    "GRIP @ The Sparks Foundation  \n",
    "Data Science & Business Analytics Intern\n",
    "### by: Pham Quang Chi  \n",
    "\n",
    "\n",
    "##### **Objective**: Predict the Indian Stock Exchange Sensitive Index - `SENSEX` from historical stock and news headlines data from 2015/01/01-31/03/2022.  \n",
    "\n",
    "   \n",
    "##### Data:  \n",
    "###### - Stock price: https://bit.ly/36fFPI6  \n",
    "###### - News Headlines: https://bit.ly/36fFPI6  \n"
   ]
  },
  {
   "cell_type": "code",
   "execution_count": 1,
   "metadata": {},
   "outputs": [],
   "source": [
    "# install Huggingface Transformers with PyTorch dependency\n",
    "#!pip install transformers[torch]"
   ]
  },
  {
   "cell_type": "code",
   "execution_count": 32,
   "metadata": {},
   "outputs": [],
   "source": [
    "import numpy as np\n",
    "import pandas as pd\n",
    "from numba import vectorize\n",
    "import matplotlib.pyplot as plt\n",
    "import seaborn as sns\n",
    "from re import sub\n",
    "import yfinance as yf\n",
    "\n",
    "# HuggingFace RoBERTa pipline model\n",
    "from transformers import pipeline\n",
    "\n",
    "from statsmodels.graphics.gofplots import qqplot\n",
    "from statsmodels.tsa.stattools import adfuller\n",
    "from statsmodels.graphics.tsaplots import plot_acf, plot_pacf \n",
    "\n",
    "# LSTM model\n",
    "from sklearn.preprocessing import MinMaxScaler\n",
    "from keras.models import Sequential\n",
    "from keras.layers import LSTM, Dense\n",
    "\n",
    "# Random Forest model\n",
    "from sklearn.preprocessing import StandardScaler\n",
    "from sklearn.ensemble import RandomForestRegressor\n",
    "from sklearn.model_selection import RandomizedSearchCV\n",
    "\n",
    "# Evaluation metrics\n",
    "from sklearn.metrics import mean_squared_error"
   ]
  },
  {
   "attachments": {},
   "cell_type": "markdown",
   "metadata": {},
   "source": [
    "# Numerical Data Pre-processing"
   ]
  },
  {
   "cell_type": "code",
   "execution_count": 3,
   "metadata": {},
   "outputs": [
    {
     "name": "stdout",
     "output_type": "stream",
     "text": [
      "[*********************100%***********************]  1 of 1 completed\n",
      "<class 'pandas.core.frame.DataFrame'>\n",
      "DatetimeIndex: 1781 entries, 2015-01-02 to 2022-03-30\n",
      "Data columns (total 6 columns):\n",
      " #   Column     Non-Null Count  Dtype  \n",
      "---  ------     --------------  -----  \n",
      " 0   Open       1781 non-null   float64\n",
      " 1   High       1781 non-null   float64\n",
      " 2   Low        1781 non-null   float64\n",
      " 3   Close      1781 non-null   float64\n",
      " 4   Adj Close  1781 non-null   float64\n",
      " 5   Volume     1781 non-null   int64  \n",
      "dtypes: float64(5), int64(1)\n",
      "memory usage: 97.4 KB\n"
     ]
    },
    {
     "data": {
      "text/html": [
       "<div>\n",
       "<style scoped>\n",
       "    .dataframe tbody tr th:only-of-type {\n",
       "        vertical-align: middle;\n",
       "    }\n",
       "\n",
       "    .dataframe tbody tr th {\n",
       "        vertical-align: top;\n",
       "    }\n",
       "\n",
       "    .dataframe thead th {\n",
       "        text-align: right;\n",
       "    }\n",
       "</style>\n",
       "<table border=\"1\" class=\"dataframe\">\n",
       "  <thead>\n",
       "    <tr style=\"text-align: right;\">\n",
       "      <th></th>\n",
       "      <th>Open</th>\n",
       "      <th>High</th>\n",
       "      <th>Low</th>\n",
       "      <th>Close</th>\n",
       "      <th>Adj Close</th>\n",
       "      <th>Volume</th>\n",
       "    </tr>\n",
       "    <tr>\n",
       "      <th>Date</th>\n",
       "      <th></th>\n",
       "      <th></th>\n",
       "      <th></th>\n",
       "      <th></th>\n",
       "      <th></th>\n",
       "      <th></th>\n",
       "    </tr>\n",
       "  </thead>\n",
       "  <tbody>\n",
       "    <tr>\n",
       "      <th>2015-01-02</th>\n",
       "      <td>27521.279297</td>\n",
       "      <td>27937.470703</td>\n",
       "      <td>27519.259766</td>\n",
       "      <td>27887.900391</td>\n",
       "      <td>27887.900391</td>\n",
       "      <td>7400</td>\n",
       "    </tr>\n",
       "    <tr>\n",
       "      <th>2015-01-05</th>\n",
       "      <td>27978.429688</td>\n",
       "      <td>28064.490234</td>\n",
       "      <td>27786.849609</td>\n",
       "      <td>27842.320312</td>\n",
       "      <td>27842.320312</td>\n",
       "      <td>9200</td>\n",
       "    </tr>\n",
       "    <tr>\n",
       "      <th>2015-01-06</th>\n",
       "      <td>27694.230469</td>\n",
       "      <td>27698.929688</td>\n",
       "      <td>26937.060547</td>\n",
       "      <td>26987.460938</td>\n",
       "      <td>26987.460938</td>\n",
       "      <td>14100</td>\n",
       "    </tr>\n",
       "    <tr>\n",
       "      <th>2015-01-07</th>\n",
       "      <td>26983.429688</td>\n",
       "      <td>27051.599609</td>\n",
       "      <td>26776.119141</td>\n",
       "      <td>26908.820312</td>\n",
       "      <td>26908.820312</td>\n",
       "      <td>12200</td>\n",
       "    </tr>\n",
       "    <tr>\n",
       "      <th>2015-01-08</th>\n",
       "      <td>27178.769531</td>\n",
       "      <td>27316.410156</td>\n",
       "      <td>27101.939453</td>\n",
       "      <td>27274.710938</td>\n",
       "      <td>27274.710938</td>\n",
       "      <td>8200</td>\n",
       "    </tr>\n",
       "  </tbody>\n",
       "</table>\n",
       "</div>"
      ],
      "text/plain": [
       "                    Open          High           Low         Close  \\\n",
       "Date                                                                 \n",
       "2015-01-02  27521.279297  27937.470703  27519.259766  27887.900391   \n",
       "2015-01-05  27978.429688  28064.490234  27786.849609  27842.320312   \n",
       "2015-01-06  27694.230469  27698.929688  26937.060547  26987.460938   \n",
       "2015-01-07  26983.429688  27051.599609  26776.119141  26908.820312   \n",
       "2015-01-08  27178.769531  27316.410156  27101.939453  27274.710938   \n",
       "\n",
       "               Adj Close  Volume  \n",
       "Date                              \n",
       "2015-01-02  27887.900391    7400  \n",
       "2015-01-05  27842.320312    9200  \n",
       "2015-01-06  26987.460938   14100  \n",
       "2015-01-07  26908.820312   12200  \n",
       "2015-01-08  27274.710938    8200  "
      ]
     },
     "execution_count": 3,
     "metadata": {},
     "output_type": "execute_result"
    }
   ],
   "source": [
    "# fetch Daily historical stock data from yahoo finance for BSE SENSEX \n",
    "# accordling with our news headlines datetime range\n",
    "# which is from '2001-01-01' up until '2022-03-31\n",
    "stock = yf.download('^BSESN', start='2015-01-01', end='2022-03-31')\n",
    "stock.info()\n",
    "stock.head()\n"
   ]
  },
  {
   "cell_type": "code",
   "execution_count": 4,
   "metadata": {},
   "outputs": [
    {
     "data": {
      "text/plain": [
       "Open         0\n",
       "High         0\n",
       "Low          0\n",
       "Close        0\n",
       "Adj Close    0\n",
       "Volume       0\n",
       "dtype: int64"
      ]
     },
     "execution_count": 4,
     "metadata": {},
     "output_type": "execute_result"
    }
   ],
   "source": [
    "# check for missing values\n",
    "stock.isnull().sum()"
   ]
  },
  {
   "attachments": {},
   "cell_type": "markdown",
   "metadata": {},
   "source": [
    "## Log-Returns of stock price\n",
    "Arithmetic-returns: $r_{t} = price_{t} / price_{t-1} - 1$  \n",
    "Arithmetic-returns are **multipicative** where:  \n",
    " $r_{t} = \\prod_{t=1}^{T}(1+r_{t})$  \n",
    "\n",
    "Log-returns: $z_{t} = \\log(price_{t}) - \\log(price_{t-1})$   \n",
    "Log-returns are **additive** where:  \n",
    "  $z_{t} = \\sum_{t=1}^{T}\\log(1+r_{t})$  \n",
    "  \n",
    "Log-returns are preferred over Arithmetic-returns based on the probability theory rule:\n",
    "- The distribtution of the product of random variables is not identical to the distribution which the random varibles are drawn from.\n",
    "- The distribtution of the sum of random variables is of the same type as the distribution of the random variables.\n",
    "    \n",
    "*Therefore we can attain a more stable distribution from Log-returns and a statistical model can be built with better accuracy*."
   ]
  },
  {
   "cell_type": "code",
   "execution_count": 153,
   "metadata": {},
   "outputs": [
    {
     "data": {
      "image/png": "[encoded data removed]",
      "text/plain": [
       "<Figure size 1500x800 with 2 Axes>"
      ]
     },
     "metadata": {},
     "output_type": "display_data"
    }
   ],
   "source": [
    "log_ret = np.log(stock['Adj Close']) - np.log(stock['Adj Close'].shift(1))\n",
    "log_ret.dropna(inplace=True)\n",
    "log_ret = log_ret.rename('log_returns')\n",
    "\n",
    "fig, ax = plt.subplots(1, 2, figsize=(10, 5))\n",
    "log_ret.plot(ax=ax[0])\n",
    "sns.histplot(log_ret, kde=True, ax=ax[1]);"
   ]
  },
  {
   "cell_type": "code",
   "execution_count": 151,
   "metadata": {},
   "outputs": [
    {
     "data": {
      "image/png": "[encoded data removed]",
      "text/plain": [
       "<Figure size 1000x1500 with 2 Axes>"
      ]
     },
     "metadata": {},
     "output_type": "display_data"
    }
   ],
   "source": [
    "# QQ plots for Generalized Error and Laplace distributions\n",
    "from scipy.stats import laplace, gennorm\n",
    "# Fit a generalized normal distribution to the data\n",
    "params = gennorm.fit(log_ret)\n",
    "\n",
    "fig, ax = plt.subplots(2, 1, figsize=(8, 12))\n",
    "qqplot(log_ret, dist=gennorm(*params), line='r', ax=ax[0])\n",
    "qqplot(log_ret, dist=laplace(), line='r', ax=ax[1])\n",
    "ax[0].set_title('Generalized Error QQplot')\n",
    "ax[1].set_title('Laplace QQplot');\n"
   ]
  },
  {
   "cell_type": "code",
   "execution_count": 7,
   "metadata": {},
   "outputs": [
    {
     "data": {
      "text/plain": [
       "3.689313269083327e-21"
      ]
     },
     "execution_count": 7,
     "metadata": {},
     "output_type": "execute_result"
    }
   ],
   "source": [
    "# check for stationarity\n",
    "adf_test = adfuller(log_ret, autolag='AIC')\n",
    "# get p-value\n",
    "adf_test[1]"
   ]
  },
  {
   "attachments": {},
   "cell_type": "markdown",
   "metadata": {},
   "source": [
    "P-value < 0.05 -> Our data appears to be stationary"
   ]
  },
  {
   "cell_type": "code",
   "execution_count": 149,
   "metadata": {},
   "outputs": [
    {
     "data": {
      "image/png": "[encoded data removed]",
      "text/plain": [
       "<Figure size 1500x800 with 2 Axes>"
      ]
     },
     "metadata": {},
     "output_type": "display_data"
    }
   ],
   "source": [
    "# plot ACF and PACF\n",
    "fig, ax = plt.subplots(1, 2, figsize=(15, 8))\n",
    "plot_acf(log_ret, lags=15, ax=ax[0])\n",
    "plot_pacf(log_ret, lags=15, method='ywmle', ax=ax[1]);"
   ]
  },
  {
   "attachments": {},
   "cell_type": "markdown",
   "metadata": {},
   "source": [
    "The logarithms of returns do not have any significant autocorrelation"
   ]
  },
  {
   "attachments": {},
   "cell_type": "markdown",
   "metadata": {},
   "source": [
    "# Textual Data Pre-processing"
   ]
  },
  {
   "cell_type": "code",
   "execution_count": 9,
   "metadata": {},
   "outputs": [
    {
     "name": "stdout",
     "output_type": "stream",
     "text": [
      "<class 'pandas.core.frame.DataFrame'>\n",
      "RangeIndex: 3650970 entries, 0 to 3650969\n",
      "Data columns (total 3 columns):\n",
      " #   Column             Dtype \n",
      "---  ------             ----- \n",
      " 0   publish_date       int64 \n",
      " 1   headline_category  object\n",
      " 2   headline_text      object\n",
      "dtypes: int64(1), object(2)\n",
      "memory usage: 83.6+ MB\n"
     ]
    },
    {
     "data": {
      "text/html": [
       "<div>\n",
       "<style scoped>\n",
       "    .dataframe tbody tr th:only-of-type {\n",
       "        vertical-align: middle;\n",
       "    }\n",
       "\n",
       "    .dataframe tbody tr th {\n",
       "        vertical-align: top;\n",
       "    }\n",
       "\n",
       "    .dataframe thead th {\n",
       "        text-align: right;\n",
       "    }\n",
       "</style>\n",
       "<table border=\"1\" class=\"dataframe\">\n",
       "  <thead>\n",
       "    <tr style=\"text-align: right;\">\n",
       "      <th></th>\n",
       "      <th>publish_date</th>\n",
       "      <th>headline_category</th>\n",
       "      <th>headline_text</th>\n",
       "    </tr>\n",
       "  </thead>\n",
       "  <tbody>\n",
       "    <tr>\n",
       "      <th>0</th>\n",
       "      <td>20010102</td>\n",
       "      <td>unknown</td>\n",
       "      <td>Status quo will not be disturbed at Ayodhya; s...</td>\n",
       "    </tr>\n",
       "    <tr>\n",
       "      <th>1</th>\n",
       "      <td>20010102</td>\n",
       "      <td>unknown</td>\n",
       "      <td>Fissures in Hurriyat over Pak visit</td>\n",
       "    </tr>\n",
       "    <tr>\n",
       "      <th>2</th>\n",
       "      <td>20010102</td>\n",
       "      <td>unknown</td>\n",
       "      <td>America's unwanted heading for India?</td>\n",
       "    </tr>\n",
       "    <tr>\n",
       "      <th>3</th>\n",
       "      <td>20010102</td>\n",
       "      <td>unknown</td>\n",
       "      <td>For bigwigs; it is destination Goa</td>\n",
       "    </tr>\n",
       "    <tr>\n",
       "      <th>4</th>\n",
       "      <td>20010102</td>\n",
       "      <td>unknown</td>\n",
       "      <td>Extra buses to clear tourist traffic</td>\n",
       "    </tr>\n",
       "  </tbody>\n",
       "</table>\n",
       "</div>"
      ],
      "text/plain": [
       "   publish_date headline_category  \\\n",
       "0      20010102           unknown   \n",
       "1      20010102           unknown   \n",
       "2      20010102           unknown   \n",
       "3      20010102           unknown   \n",
       "4      20010102           unknown   \n",
       "\n",
       "                                       headline_text  \n",
       "0  Status quo will not be disturbed at Ayodhya; s...  \n",
       "1                Fissures in Hurriyat over Pak visit  \n",
       "2              America's unwanted heading for India?  \n",
       "3                 For bigwigs; it is destination Goa  \n",
       "4               Extra buses to clear tourist traffic  "
      ]
     },
     "execution_count": 9,
     "metadata": {},
     "output_type": "execute_result"
    }
   ],
   "source": [
    "# import the downloaded news headlines data\n",
    "news = pd.read_csv(r\"C:\\Users\\Steven\\Downloads\\india-news-headlines.csv\", engine='c')\n",
    "news.info()\n",
    "news.head()"
   ]
  },
  {
   "cell_type": "code",
   "execution_count": 10,
   "metadata": {},
   "outputs": [
    {
     "data": {
      "text/html": [
       "<div>\n",
       "<style scoped>\n",
       "    .dataframe tbody tr th:only-of-type {\n",
       "        vertical-align: middle;\n",
       "    }\n",
       "\n",
       "    .dataframe tbody tr th {\n",
       "        vertical-align: top;\n",
       "    }\n",
       "\n",
       "    .dataframe thead th {\n",
       "        text-align: right;\n",
       "    }\n",
       "</style>\n",
       "<table border=\"1\" class=\"dataframe\">\n",
       "  <thead>\n",
       "    <tr style=\"text-align: right;\">\n",
       "      <th></th>\n",
       "      <th>Headlines</th>\n",
       "    </tr>\n",
       "    <tr>\n",
       "      <th>Date</th>\n",
       "      <th></th>\n",
       "    </tr>\n",
       "  </thead>\n",
       "  <tbody>\n",
       "    <tr>\n",
       "      <th>2022-03-31</th>\n",
       "      <td>J&amp;K sacks 2 cops; 3 other employees over terro...</td>\n",
       "    </tr>\n",
       "    <tr>\n",
       "      <th>2022-03-31</th>\n",
       "      <td>Ranbir Kapoor says 'Rishi Kapoor enjoyed his a...</td>\n",
       "    </tr>\n",
       "    <tr>\n",
       "      <th>2022-03-31</th>\n",
       "      <td>As Covid-19 cases drop to nil in southern dist...</td>\n",
       "    </tr>\n",
       "    <tr>\n",
       "      <th>2022-03-31</th>\n",
       "      <td>Tamil Nadu sees marginal rise of Covid cases w...</td>\n",
       "    </tr>\n",
       "    <tr>\n",
       "      <th>2022-03-31</th>\n",
       "      <td>Tamil Nadu sees marginal rise of Covid cases w...</td>\n",
       "    </tr>\n",
       "  </tbody>\n",
       "</table>\n",
       "</div>"
      ],
      "text/plain": [
       "                                                    Headlines\n",
       "Date                                                         \n",
       "2022-03-31  J&K sacks 2 cops; 3 other employees over terro...\n",
       "2022-03-31  Ranbir Kapoor says 'Rishi Kapoor enjoyed his a...\n",
       "2022-03-31  As Covid-19 cases drop to nil in southern dist...\n",
       "2022-03-31  Tamil Nadu sees marginal rise of Covid cases w...\n",
       "2022-03-31  Tamil Nadu sees marginal rise of Covid cases w..."
      ]
     },
     "execution_count": 10,
     "metadata": {},
     "output_type": "execute_result"
    }
   ],
   "source": [
    "# parse date, rename and set as index\n",
    "news['publish_date'] = pd.to_datetime(news['publish_date'], format='%Y%m%d')\n",
    "news.rename(columns={'publish_date': 'Date'}, inplace=True)\n",
    "news = news.set_index('Date')\n",
    "# pertain the data post 2015-01-01\n",
    "news = news['2015-01-01':]\n",
    "# rename the `headline_text` column to `Headlines`\n",
    "news.rename(columns={'headline_text': 'Headlines'}, inplace=True)\n",
    "# remove the unecessary `headline_category` column\n",
    "news = news.drop(['headline_category'], axis=1)\n",
    "\n",
    "news.tail()"
   ]
  },
  {
   "cell_type": "code",
   "execution_count": 11,
   "metadata": {},
   "outputs": [],
   "source": [
    "# our News data seems to have duplicates\n",
    "# remove duplicate headlines\n",
    "news.drop_duplicates(inplace=True)"
   ]
  },
  {
   "cell_type": "code",
   "execution_count": 12,
   "metadata": {},
   "outputs": [
    {
     "data": {
      "text/plain": [
       "Date\n",
       "2015-01-01    Breakfast recipe for diabetics Moong idlis\n",
       "2015-01-01                Recipe Delicious coconut balls\n",
       "2015-01-01                  Cure that dandruff naturally\n",
       "2015-01-01                   Recipe Kerala Chicken curry\n",
       "2015-01-01                           Recipe Mocha Coffee\n",
       "Name: Headlines, dtype: object"
      ]
     },
     "execution_count": 12,
     "metadata": {},
     "output_type": "execute_result"
    }
   ],
   "source": [
    "# remove special characters in the headlines\n",
    "clean_headlines = []\n",
    "for i in range(0, len(news)):\n",
    "    # The regular expression `\\W+` matches any non-alphanumeric characters\n",
    "    clean_headlines.append(sub(r'\\W+', ' ', news['Headlines'][i]))\n",
    "\n",
    "# replace with the cleaned headlines    \n",
    "news['Headlines'] = clean_headlines\n",
    "news['Headlines'][:5]\n"
   ]
  },
  {
   "cell_type": "code",
   "execution_count": 13,
   "metadata": {},
   "outputs": [
    {
     "data": {
      "text/html": [
       "<div>\n",
       "<style scoped>\n",
       "    .dataframe tbody tr th:only-of-type {\n",
       "        vertical-align: middle;\n",
       "    }\n",
       "\n",
       "    .dataframe tbody tr th {\n",
       "        vertical-align: top;\n",
       "    }\n",
       "\n",
       "    .dataframe thead th {\n",
       "        text-align: right;\n",
       "    }\n",
       "</style>\n",
       "<table border=\"1\" class=\"dataframe\">\n",
       "  <thead>\n",
       "    <tr style=\"text-align: right;\">\n",
       "      <th></th>\n",
       "      <th>Headlines</th>\n",
       "    </tr>\n",
       "    <tr>\n",
       "      <th>Date</th>\n",
       "      <th></th>\n",
       "    </tr>\n",
       "  </thead>\n",
       "  <tbody>\n",
       "    <tr>\n",
       "      <th>2015-01-01</th>\n",
       "      <td>Breakfast recipe for diabetics Moong idlis. Re...</td>\n",
       "    </tr>\n",
       "    <tr>\n",
       "      <th>2015-01-02</th>\n",
       "      <td>Drink smart with these party tips. How to say ...</td>\n",
       "    </tr>\n",
       "    <tr>\n",
       "      <th>2015-01-03</th>\n",
       "      <td>3 Stylish New Year cocktail recipes you ll LOV...</td>\n",
       "    </tr>\n",
       "    <tr>\n",
       "      <th>2015-01-04</th>\n",
       "      <td>How to get that bikini body. Rules of love mak...</td>\n",
       "    </tr>\n",
       "    <tr>\n",
       "      <th>2015-01-05</th>\n",
       "      <td>Recipe Strawberry cupcakes. Recipe Kaju jeera ...</td>\n",
       "    </tr>\n",
       "  </tbody>\n",
       "</table>\n",
       "</div>"
      ],
      "text/plain": [
       "                                                    Headlines\n",
       "Date                                                         \n",
       "2015-01-01  Breakfast recipe for diabetics Moong idlis. Re...\n",
       "2015-01-02  Drink smart with these party tips. How to say ...\n",
       "2015-01-03  3 Stylish New Year cocktail recipes you ll LOV...\n",
       "2015-01-04  How to get that bikini body. Rules of love mak...\n",
       "2015-01-05  Recipe Strawberry cupcakes. Recipe Kaju jeera ..."
      ]
     },
     "execution_count": 13,
     "metadata": {},
     "output_type": "execute_result"
    }
   ],
   "source": [
    "# group headlines by date\n",
    "grouped_news = news.groupby(['Date']).agg({'Headlines': '. '.join})\n",
    "grouped_news.head()"
   ]
  },
  {
   "attachments": {},
   "cell_type": "markdown",
   "metadata": {},
   "source": [
    "## Sentiment Analysis\n",
    "using the Huggingface pretrained RoBERTa `cardiffnlp/twitter-roberta-base-sentiment-latest` model"
   ]
  },
  {
   "cell_type": "code",
   "execution_count": 14,
   "metadata": {},
   "outputs": [
    {
     "name": "stderr",
     "output_type": "stream",
     "text": [
      "Some weights of the model checkpoint at cardiffnlp/twitter-roberta-base-sentiment-latest were not used when initializing RobertaForSequenceClassification: ['roberta.pooler.dense.weight', 'roberta.pooler.dense.bias']\n",
      "- This IS expected if you are initializing RobertaForSequenceClassification from the checkpoint of a model trained on another task or with another architecture (e.g. initializing a BertForSequenceClassification model from a BertForPreTraining model).\n",
      "- This IS NOT expected if you are initializing RobertaForSequenceClassification from the checkpoint of a model that you expect to be exactly identical (initializing a BertForSequenceClassification model from a BertForSequenceClassification model).\n"
     ]
    }
   ],
   "source": [
    "# instantiate the full-classification model\n",
    "from transformers import AutoTokenizer, AutoModelForSequenceClassification\n",
    "import torch\n",
    "from scipy.special import softmax\n",
    "\n",
    "# Define model and tokenizer\n",
    "model_name = \"cardiffnlp/twitter-roberta-base-sentiment-latest\"\n",
    "tokenizer = AutoTokenizer.from_pretrained(model_name)\n",
    "model = AutoModelForSequenceClassification.from_pretrained(model_name)\n"
   ]
  },
  {
   "cell_type": "code",
   "execution_count": 38,
   "metadata": {},
   "outputs": [],
   "source": [
    "# Define a function to perform sentiment analysis\n",
    "def get_sentiments(df, column):\n",
    "    sentiments = {\"negative\": [], \"neutral\": [], \"positive\": []}\n",
    "    for text in df[column]:\n",
    "        encoded_input = tokenizer(text, max_length=512, truncation=True, return_tensors='pt')\n",
    "        output = model(**encoded_input)\n",
    "        scores = output[0][0].detach().numpy()\n",
    "        scores = torch.nn.functional.softmax(torch.tensor(scores), dim=0)\n",
    "        for i, label in enumerate([\"negative\", \"neutral\", \"positive\"]):\n",
    "            sentiments[label].append(scores[i].item())\n",
    "    return sentiments\n",
    "\n",
    "sentiment_scores = get_sentiments(grouped_news, 'Headlines')"
   ]
  },
  {
   "cell_type": "code",
   "execution_count": 40,
   "metadata": {},
   "outputs": [
    {
     "data": {
      "text/html": [
       "<div>\n",
       "<style scoped>\n",
       "    .dataframe tbody tr th:only-of-type {\n",
       "        vertical-align: middle;\n",
       "    }\n",
       "\n",
       "    .dataframe tbody tr th {\n",
       "        vertical-align: top;\n",
       "    }\n",
       "\n",
       "    .dataframe thead th {\n",
       "        text-align: right;\n",
       "    }\n",
       "</style>\n",
       "<table border=\"1\" class=\"dataframe\">\n",
       "  <thead>\n",
       "    <tr style=\"text-align: right;\">\n",
       "      <th></th>\n",
       "      <th>negative</th>\n",
       "      <th>neutral</th>\n",
       "      <th>positive</th>\n",
       "    </tr>\n",
       "    <tr>\n",
       "      <th>Date</th>\n",
       "      <th></th>\n",
       "      <th></th>\n",
       "      <th></th>\n",
       "    </tr>\n",
       "  </thead>\n",
       "  <tbody>\n",
       "    <tr>\n",
       "      <th>2015-01-01</th>\n",
       "      <td>0.038320</td>\n",
       "      <td>0.668400</td>\n",
       "      <td>0.293279</td>\n",
       "    </tr>\n",
       "    <tr>\n",
       "      <th>2015-01-02</th>\n",
       "      <td>0.082853</td>\n",
       "      <td>0.680551</td>\n",
       "      <td>0.236596</td>\n",
       "    </tr>\n",
       "    <tr>\n",
       "      <th>2015-01-03</th>\n",
       "      <td>0.059572</td>\n",
       "      <td>0.514002</td>\n",
       "      <td>0.426426</td>\n",
       "    </tr>\n",
       "    <tr>\n",
       "      <th>2015-01-04</th>\n",
       "      <td>0.039752</td>\n",
       "      <td>0.587957</td>\n",
       "      <td>0.372292</td>\n",
       "    </tr>\n",
       "    <tr>\n",
       "      <th>2015-01-05</th>\n",
       "      <td>0.123824</td>\n",
       "      <td>0.772273</td>\n",
       "      <td>0.103903</td>\n",
       "    </tr>\n",
       "  </tbody>\n",
       "</table>\n",
       "</div>"
      ],
      "text/plain": [
       "            negative   neutral  positive\n",
       "Date                                    \n",
       "2015-01-01  0.038320  0.668400  0.293279\n",
       "2015-01-02  0.082853  0.680551  0.236596\n",
       "2015-01-03  0.059572  0.514002  0.426426\n",
       "2015-01-04  0.039752  0.587957  0.372292\n",
       "2015-01-05  0.123824  0.772273  0.103903"
      ]
     },
     "execution_count": 40,
     "metadata": {},
     "output_type": "execute_result"
    }
   ],
   "source": [
    "# Create our sentiment dataframe\n",
    "sentiment_df = pd.DataFrame(sentiment_scores, index=grouped_news.index)\n",
    "sentiment_df.head()"
   ]
  },
  {
   "attachments": {},
   "cell_type": "markdown",
   "metadata": {},
   "source": [
    "# Model Development\n",
    "In this section, we will use the last **60** days log-returns, trading volumns and sentiment scores (including current scores) as our 5 dimensional feature matrix to predict our target vector which is the current log-returns.  \n",
    "2 models will be used for comparison are: `LSTM` and `Random Forest Regressor`\n"
   ]
  },
  {
   "cell_type": "code",
   "execution_count": 117,
   "metadata": {},
   "outputs": [
    {
     "data": {
      "text/html": [
       "<div>\n",
       "<style scoped>\n",
       "    .dataframe tbody tr th:only-of-type {\n",
       "        vertical-align: middle;\n",
       "    }\n",
       "\n",
       "    .dataframe tbody tr th {\n",
       "        vertical-align: top;\n",
       "    }\n",
       "\n",
       "    .dataframe thead th {\n",
       "        text-align: right;\n",
       "    }\n",
       "</style>\n",
       "<table border=\"1\" class=\"dataframe\">\n",
       "  <thead>\n",
       "    <tr style=\"text-align: right;\">\n",
       "      <th></th>\n",
       "      <th>log_returns</th>\n",
       "      <th>Volume</th>\n",
       "      <th>negative</th>\n",
       "      <th>neutral</th>\n",
       "      <th>positive</th>\n",
       "      <th>yesterday_log_returns</th>\n",
       "    </tr>\n",
       "    <tr>\n",
       "      <th>Date</th>\n",
       "      <th></th>\n",
       "      <th></th>\n",
       "      <th></th>\n",
       "      <th></th>\n",
       "      <th></th>\n",
       "      <th></th>\n",
       "    </tr>\n",
       "  </thead>\n",
       "  <tbody>\n",
       "    <tr>\n",
       "      <th>2015-01-06</th>\n",
       "      <td>-0.031185</td>\n",
       "      <td>9200.0</td>\n",
       "      <td>0.029923</td>\n",
       "      <td>0.313757</td>\n",
       "      <td>0.656320</td>\n",
       "      <td>-0.001636</td>\n",
       "    </tr>\n",
       "    <tr>\n",
       "      <th>2015-01-07</th>\n",
       "      <td>-0.002918</td>\n",
       "      <td>14100.0</td>\n",
       "      <td>0.046298</td>\n",
       "      <td>0.533188</td>\n",
       "      <td>0.420514</td>\n",
       "      <td>-0.031185</td>\n",
       "    </tr>\n",
       "    <tr>\n",
       "      <th>2015-01-08</th>\n",
       "      <td>0.013506</td>\n",
       "      <td>12200.0</td>\n",
       "      <td>0.084145</td>\n",
       "      <td>0.746031</td>\n",
       "      <td>0.169823</td>\n",
       "      <td>-0.002918</td>\n",
       "    </tr>\n",
       "    <tr>\n",
       "      <th>2015-01-09</th>\n",
       "      <td>0.006712</td>\n",
       "      <td>8200.0</td>\n",
       "      <td>0.314897</td>\n",
       "      <td>0.536853</td>\n",
       "      <td>0.148250</td>\n",
       "      <td>0.013506</td>\n",
       "    </tr>\n",
       "    <tr>\n",
       "      <th>2015-01-12</th>\n",
       "      <td>0.004610</td>\n",
       "      <td>11100.0</td>\n",
       "      <td>0.014138</td>\n",
       "      <td>0.528707</td>\n",
       "      <td>0.457155</td>\n",
       "      <td>0.006712</td>\n",
       "    </tr>\n",
       "  </tbody>\n",
       "</table>\n",
       "</div>"
      ],
      "text/plain": [
       "            log_returns   Volume  negative   neutral  positive  \\\n",
       "Date                                                             \n",
       "2015-01-06    -0.031185   9200.0  0.029923  0.313757  0.656320   \n",
       "2015-01-07    -0.002918  14100.0  0.046298  0.533188  0.420514   \n",
       "2015-01-08     0.013506  12200.0  0.084145  0.746031  0.169823   \n",
       "2015-01-09     0.006712   8200.0  0.314897  0.536853  0.148250   \n",
       "2015-01-12     0.004610  11100.0  0.014138  0.528707  0.457155   \n",
       "\n",
       "            yesterday_log_returns  \n",
       "Date                               \n",
       "2015-01-06              -0.001636  \n",
       "2015-01-07              -0.031185  \n",
       "2015-01-08              -0.002918  \n",
       "2015-01-09               0.013506  \n",
       "2015-01-12               0.006712  "
      ]
     },
     "execution_count": 117,
     "metadata": {},
     "output_type": "execute_result"
    }
   ],
   "source": [
    "# merge the sentiment scores with shifted volumn data\n",
    "yesterday_vol = stock['Volume'].shift(1).dropna()\n",
    "df = pd.merge(yesterday_vol, sentiment_df.iloc[1:], how='inner', on='Date')\n",
    "# merge the sentiment scores with the log returns data\n",
    "df = pd.merge(log_ret, df, how='inner', on='Date')\n",
    "# shift log returns by 1 day\n",
    "log_prior_ret = log_ret.shift(1).dropna()\n",
    "# merge df with the shifted log returns data\n",
    "df = pd.merge(df.iloc[1:], log_prior_ret.rename('yesterday_log_returns'), how='inner', on='Date')\n",
    "df.head()"
   ]
  },
  {
   "cell_type": "code",
   "execution_count": 118,
   "metadata": {},
   "outputs": [],
   "source": [
    "# convert to numpy array for model training\n",
    "data = df.values"
   ]
  },
  {
   "cell_type": "code",
   "execution_count": 119,
   "metadata": {},
   "outputs": [],
   "source": [
    "# Define the sliding window length\n",
    "T = 60"
   ]
  },
  {
   "attachments": {},
   "cell_type": "markdown",
   "metadata": {},
   "source": [
    "## LSTM\n",
    "This model is a two-layer LSTM network with 128 and 64 neurons respectively followed by two dense layers of 25 and 1 neurons.  \n",
    "The model architecture is based on the following research paper:  \n",
    "[Stock Price Prediction using Sentiment Analysis and Deep Learning for Indian Markets](https://arxiv.org/abs/2204.05783) \n"
   ]
  },
  {
   "cell_type": "code",
   "execution_count": 134,
   "metadata": {},
   "outputs": [
    {
     "name": "stdout",
     "output_type": "stream",
     "text": [
      "43/43 [==============================] - 1s 19ms/step\n",
      "11/11 [==============================] - 0s 19ms/step\n"
     ]
    }
   ],
   "source": [
    "# Normalize the data\n",
    "scaler = MinMaxScaler(feature_range=(-1, 1))\n",
    "scaled_data = scaler.fit_transform(data)\n",
    "\n",
    "# Convert to data matrix\n",
    "def create_dataset(data, look_back=T):\n",
    "    X, y = [], []\n",
    "    for i in range(len(data)-look_back-1):\n",
    "        X.append(data[i:(i+look_back), 1:])\n",
    "        y.append(data[i + look_back, 0])\n",
    "    return np.array(X), np.array(y)\n",
    "\n",
    "X, y = create_dataset(scaled_data)\n",
    "\n",
    "# Split into train and test sets\n",
    "train_size = int(len(X) * 0.8)\n",
    "trainX, testX = X[:train_size,:], X[train_size:len(X),:]\n",
    "LSTM_trainY, LSTM_testY = y[:train_size], y[train_size:len(y)]\n",
    "\n",
    "# Reshape input data to be [samples, time steps, features]\n",
    "trainX = np.reshape(trainX, (trainX.shape[0], trainX.shape[1], 5))\n",
    "testX = np.reshape(testX, (testX.shape[0], testX.shape[1], 5))\n",
    "\n",
    "# Create and fit the LSTM network\n",
    "model = Sequential()\n",
    "model.add(LSTM(128, input_shape=(T, 5)))\n",
    "model.add(Dense(64))\n",
    "model.add(Dense(25))\n",
    "model.add(Dense(1))\n",
    "model.compile(loss='mean_squared_error', optimizer='adam')\n",
    "model.fit(trainX, LSTM_trainY, epochs=100, batch_size=32, verbose=0)\n",
    "\n",
    "# Make predictions\n",
    "LSTM_trainPredict = model.predict(trainX)\n",
    "LSTM_testPredict = model.predict(testX)\n",
    "\n"
   ]
  },
  {
   "attachments": {},
   "cell_type": "markdown",
   "metadata": {},
   "source": [
    "## Random Forest Regressor model \n",
    "  Statistical measures which are the mean, standard deviation, maximum, minimum and percentile values of the stock returns and sentiment scores are combined into a feature matrix as the input to the Random Forest Regressor model."
   ]
  },
  {
   "cell_type": "code",
   "execution_count": 123,
   "metadata": {},
   "outputs": [],
   "source": [
    "# Compute the statistical features for each window which are:\n",
    "# the mean, standard deviation, maximum, minimum and percentile values \n",
    "# of the past log returns, past volumns and sentiment scores\n",
    "features = []\n",
    "for i in range(len(data) - T):\n",
    "    window = data[i:i+T, 1:]\n",
    "    mean = np.mean(window, axis=0)\n",
    "    std = np.std(window, axis=0)\n",
    "    maximum = np.max(window, axis=0)\n",
    "    minimum = np.min(window, axis=0)\n",
    "    percentiles = np.percentile(window, [25, 50, 75], axis=0)\n",
    "    feature_matrix = np.concatenate((mean, std, maximum, minimum, percentiles.flatten()))\n",
    "    features.append(feature_matrix)\n",
    "\n",
    "# Convert to NumPy array\n",
    "features = np.array(features)\n",
    "\n",
    "# Split into train and test sets\n",
    "train_size = int(len(features) * 0.8)\n",
    "trainX, testX = features[:train_size,:], features[train_size:len(features),:]\n",
    "Forest_trainY, Forest_testY = data[T:T+train_size, 0], data[T+train_size:len(data), 0]\n",
    "\n",
    "# Instantiate and fit the Random Forest Regressor model\n",
    "# using default hyperparameters\n",
    "model = RandomForestRegressor(n_estimators=100, criterion='squared_error', n_jobs=-1, random_state=42)\n",
    "model.fit(trainX, Forest_trainY)\n",
    "\n",
    "# Make predictions\n",
    "Forest_trainPredict = model.predict(trainX)\n",
    "Forest_testPredict = model.predict(testX)\n"
   ]
  },
  {
   "attachments": {},
   "cell_type": "markdown",
   "metadata": {},
   "source": [
    "## Evaluate results"
   ]
  },
  {
   "cell_type": "code",
   "execution_count": 124,
   "metadata": {},
   "outputs": [
    {
     "name": "stdout",
     "output_type": "stream",
     "text": [
      "LSTM Train Score: 0.09 RMSE\n",
      "LSTM Test Score: 0.10 RMSE\n",
      "Random Forest Train Score: 0.00 RMSE\n",
      "Random Forest Test Score: 0.02 RMSE\n"
     ]
    }
   ],
   "source": [
    "# Compute and compare the RMSE of our 2 models\n",
    "# LSTM \n",
    "LSTM_trainScore = np.sqrt(mean_squared_error(LSTM_trainY, LSTM_trainPredict[:,0]))\n",
    "print('LSTM Train Score: %.2f RMSE' % (LSTM_trainScore))\n",
    "LSTM_testScore = np.sqrt(mean_squared_error(LSTM_testY, LSTM_testPredict[:,0]))\n",
    "print('LSTM Test Score: %.2f RMSE' % (LSTM_testScore))\n",
    "# Random Forest\n",
    "Forest_trainScore = np.sqrt(mean_squared_error(Forest_trainY, Forest_trainPredict))\n",
    "print('Random Forest Train Score: %.2f RMSE' % (Forest_trainScore))\n",
    "Forest_testScore = np.sqrt(mean_squared_error(Forest_testY, Forest_testPredict))\n",
    "print('Random Forest Test Score: %.2f RMSE' % (Forest_testScore))\n"
   ]
  },
  {
   "attachments": {},
   "cell_type": "markdown",
   "metadata": {},
   "source": [
    "In this particular project, the simplier model Random Forest Regressor appears to outperform the more complex LSTM model."
   ]
  },
  {
   "cell_type": "code",
   "execution_count": null,
   "metadata": {},
   "outputs": [],
   "source": []
  }
 ],
 "metadata": {
  "kernelspec": {
   "display_name": "base",
   "language": "python",
   "name": "python3"
  },
  "language_info": {
   "codemirror_mode": {
    "name": "ipython",
    "version": 3
   },
   "file_extension": ".py",
   "mimetype": "text/x-python",
   "name": "python",
   "nbconvert_exporter": "python",
   "pygments_lexer": "ipython3",
   "version": "3.9.15"
  },
  "orig_nbformat": 4
 },
 "nbformat": 4,
 "nbformat_minor": 2
}
